{
 "cells": [
  {
   "cell_type": "markdown",
   "metadata": {
    "tags": []
   },
   "source": [
    "# Lab | Data Structures "
   ]
  },
  {
   "cell_type": "markdown",
   "metadata": {},
   "source": [
    "## Exercise: Managing Customer Orders\n",
    "\n",
    "As part of a business venture, you are starting an online store that sells various products. To ensure smooth operations, you need to develop a program that manages customer orders and inventory.\n",
    "\n",
    "Follow the steps below to complete the exercise:\n",
    "\n",
    "1. Define a list called `products` that contains the following items: \"t-shirt\", \"mug\", \"hat\", \"book\", \"keychain\".\n",
    "\n",
    "2. Create an empty dictionary called `inventory`.\n",
    "\n",
    "3. Ask the user to input the quantity of each product available in the inventory. Use the product names from the `products` list as keys in the `inventory` dictionary and assign the respective quantities as values.\n",
    "\n",
    "4. Create an empty set called `customer_orders`.\n",
    "\n",
    "5. Ask the user to input the name of three products that a customer wants to order (from those in the products list, meaning three products out of \"t-shirt\", \"mug\", \"hat\", \"book\" or \"keychain\". Add each product name to the `customer_orders` set.\n",
    "\n",
    "6. Print the products in the `customer_orders` set.\n",
    "\n",
    "7. Calculate the following order statistics:\n",
    "   - Total Products Ordered: The total number of products in the `customer_orders` set.\n",
    "   - Percentage of Products Ordered: The percentage of products ordered compared to the total available products.\n",
    "   \n",
    "   Store these statistics in a tuple called `order_status`.\n",
    "\n",
    "8. Print the order statistics using the following format:\n",
    "   ```\n",
    "   Order Statistics:\n",
    "   Total Products Ordered: <total_products_ordered>\n",
    "   Percentage of Products Ordered: <percentage_ordered>% \n",
    "   ```\n",
    "\n",
    "9. Update the inventory by subtracting 1 from the quantity of each product. Modify the `inventory` dictionary accordingly.\n",
    "\n",
    "10. Print the updated inventory, displaying the quantity of each product on separate lines.\n",
    "\n",
    "Solve the exercise by implementing the steps using the Python concepts of lists, dictionaries, sets, and basic input/output operations. "
   ]
  },
  {
   "cell_type": "code",
   "execution_count": 28,
   "metadata": {},
   "outputs": [
    {
     "name": "stdout",
     "output_type": "stream",
     "text": [
      "Customer orders are: {'mug', 'hat', 'book'}\n",
      "\n",
      "Order Statistics:\n",
      "Total Products Ordered:  3 \n",
      "Percentage of Products Ordered:  60.0%\n",
      "\n",
      "Updated Inventory:\n",
      "t-shirt: 1\n",
      "mug: 1\n",
      "hat: 2\n",
      "book: 3\n",
      "keychain: 5\n"
     ]
    }
   ],
   "source": [
    "# Define a list called `products` that contains the following items: \"t-shirt\", \"mug\", \"hat\", \"book\", \"keychain\".\n",
    "\n",
    "products = [\"t-shirt\", \"mug\", \"hat\", \"book\", \"keychain\"]\n",
    "\n",
    "\n",
    "# 2. Create an empty dictionary called `inventory`.\n",
    "\n",
    "inventory = {}\n",
    "\n",
    "\n",
    "# 3. Ask the user to input the quantity of each product available in the inventory. Use the product names from the `products` list as keys in the `inventory` dictionary and assign the respective quantities as values.\n",
    "\n",
    "inventory[\"t-shirt\"] = int(input(\"Give me the quantity of t-shirt: \"))\n",
    "inventory[\"mug\"] = int(input(\"Give me the quantity of mug: \"))\n",
    "inventory[\"hat\"] = int(input(\"Give me the quantity of hat: \"))\n",
    "inventory[\"book\"] = int(input(\"Give me the quantity of book: \"))   \n",
    "inventory[\"keychain\"] = int(input(\"Give me the quantity of keychain: \"))\n",
    "\n",
    "\n",
    "# 4. Create an empty set called `customer_orders`.\n",
    "\n",
    "customer_orders = set()\n",
    "\n",
    "\n",
    "# 5. Ask the user to input the name of three products that a customer wants to order (from those in the products list, meaning three products out of \"t-shirt\", \"mug\", \"hat\", \"book\" or \"keychain\".\n",
    "\n",
    "customer_product_1 = input(\"What product do you want of these\" + str(products))\n",
    "customer_product_2 = input(\"What product do you want of these\" + str(products))\n",
    "customer_product_3 = input(\"What product do you want of these\" + str(products))\n",
    "\n",
    "# Add each product name to the `customer_orders` set.\n",
    "\n",
    "customer_orders.add(customer_product_1)\n",
    "customer_orders.add(customer_product_2)\n",
    "customer_orders.add(customer_product_3)\n",
    "\n",
    "# 6 Print the products in the `customer_orders` set.\n",
    "\n",
    "print(\"Customer orders are:\", customer_orders)\n",
    "\n",
    "# 7. Calculate the following order statistics:\n",
    "# - Total Products Ordered: The total number of products in the `customer_orders` set.\n",
    "# - Percentage of Products Ordered: The percentage of products ordered compared to the total available products.\n",
    "\n",
    "total_products_ordered = len(customer_orders) #Lenght the number of products in customer order\n",
    "percentage_ordered = str((total_products_order / len(inventory))*100) + \"%\" # Calculate percentage between products ordered and inventory\n",
    "   \n",
    "# Store these statistics in a tuple called `order_status`.\n",
    "\n",
    "order_status = {total_products_ordered, percentage_ordered}\n",
    "\n",
    "\n",
    "# 8. Print the order statistics using the following format:\n",
    "\n",
    "print(\"\\nOrder Statistics:\\nTotal Products Ordered: \",total_products_ordered, \"\\nPercentage of Products Ordered: \", percentage_ordered)\n",
    "\n",
    "# 9. Update the inventory by subtracting 1 from the quantity of each product. Modify the `inventory` dictionary accordingly.\n",
    "\n",
    "inventory[customer_product_1] -= 1\n",
    "inventory[customer_product_2] -= 1\n",
    "inventory[customer_product_3] -= 1\n",
    "\n",
    "# 10. Print the updated inventory, displaying the quantity of each product on separate lines.\n",
    "\n",
    "print(\"\\nUpdated Inventory:\")\n",
    "print(\"t-shirt:\", inventory[\"t-shirt\"])\n",
    "print(\"mug:\", inventory[\"mug\"])\n",
    "print(\"hat:\", inventory[\"hat\"])\n",
    "print(\"book:\", inventory[\"book\"])\n",
    "print(\"keychain:\", inventory[\"keychain\"])\n",
    "\n",
    " "
   ]
  },
  {
   "cell_type": "code",
   "execution_count": null,
   "metadata": {},
   "outputs": [],
   "source": []
  },
  {
   "cell_type": "code",
   "execution_count": null,
   "metadata": {},
   "outputs": [],
   "source": []
  }
 ],
 "metadata": {
  "kernelspec": {
   "display_name": "Python 3 (ipykernel)",
   "language": "python",
   "name": "python3"
  },
  "language_info": {
   "codemirror_mode": {
    "name": "ipython",
    "version": 3
   },
   "file_extension": ".py",
   "mimetype": "text/x-python",
   "name": "python",
   "nbconvert_exporter": "python",
   "pygments_lexer": "ipython3",
   "version": "3.12.4"
  }
 },
 "nbformat": 4,
 "nbformat_minor": 4
}
